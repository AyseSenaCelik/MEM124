{
 "cells": [
  {
   "cell_type": "code",
   "execution_count": null,
   "metadata": {},
   "outputs": [],
   "source": [
    "print(\"Find to second order functions root\")\n",
    "print(\" a*x**2+b*x+c=0\")\n",
    "a = int(input(\"Enter a value for a: \"))\n",
    "b = int(input(\"Enter a value for b: \"))\n",
    "c = int(input(\"Enter a value for c: \"))\n",
    "delta = (b**2) - (4*a*c)\n",
    "print('result mean is : ' , delta )\n",
    "root1 = (-b) - (delta**0.5) / 2*a\n",
    "print('result is: ' , root1) \n",
    "root2 = (-b) + (delta**0.5) / 2*a\n",
    "print('result is: ' , root2) "
   ]
  }
 ],
 "metadata": {
  "kernelspec": {
   "display_name": "Python 3",
   "language": "python",
   "name": "python3"
  },
  "language_info": {
   "codemirror_mode": {
    "name": "ipython",
    "version": 3
   },
   "file_extension": ".py",
   "mimetype": "text/x-python",
   "name": "python",
   "nbconvert_exporter": "python",
   "pygments_lexer": "ipython3",
   "version": "3.7.3"
  }
 },
 "nbformat": 4,
 "nbformat_minor": 2
}
