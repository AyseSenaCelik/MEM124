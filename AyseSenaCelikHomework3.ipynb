{
 "cells": [
  {
   "cell_type": "code",
   "execution_count": null,
   "metadata": {},
   "outputs": [],
   "source": [
    "a = int(input(\"Choose a number between 1-3: \"))\n",
    "if a == 1:\n",
    "    print('You will calculate the length of hypotenuse of the triangle.')\n",
    "    x = float(input(\"Enter a value: \"))\n",
    "    y = float(input(\"Enter a value: \"))\n",
    "    z = (x**2 + y**2)**0.5\n",
    "    print('The length of hypotenuse of triangle is' ,z )\n",
    "elif a == 2:\n",
    "    i = int(input(\"Enter a number: \"))\n",
    "    w=0\n",
    "    while w<i:\n",
    "        w = w + 1\n",
    "        w == i\n",
    "        print(w)\n",
    "        \n",
    "    \n",
    "elif a == 3:\n",
    "    print('You will calculate arithmetic mean of 6 values')\n",
    "    k = float(input(\"Enter a value: \"))\n",
    "    l = float(input(\"Enter a value: \"))\n",
    "    m = float(input(\"Enter a value: \"))\n",
    "    n = float(input(\"Enter a value: \"))\n",
    "    p = float(input(\"Enter a value: \"))\n",
    "    r = float(input(\"Enter a value: \"))\n",
    "    result = (k + l + m + n + p + r)/6\n",
    "    print('The arithmetic mean of this 6 number is' ,result)\n",
    "else :\n",
    "    print('Please restart the code!')"
   ]
  }
 ],
 "metadata": {
  "kernelspec": {
   "display_name": "Python 3",
   "language": "python",
   "name": "python3"
  },
  "language_info": {
   "codemirror_mode": {
    "name": "ipython",
    "version": 3
   },
   "file_extension": ".py",
   "mimetype": "text/x-python",
   "name": "python",
   "nbconvert_exporter": "python",
   "pygments_lexer": "ipython3",
   "version": "3.7.3"
  }
 },
 "nbformat": 4,
 "nbformat_minor": 2
}
